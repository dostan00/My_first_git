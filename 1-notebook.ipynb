{
  "metadata": {
    "language_info": {
      "codemirror_mode": {
        "name": "python",
        "version": 3
      },
      "file_extension": ".py",
      "mimetype": "text/x-python",
      "name": "python",
      "nbconvert_exporter": "python",
      "pygments_lexer": "ipython3",
      "version": "3.8"
    },
    "kernelspec": {
      "name": "python",
      "display_name": "Python (Pyodide)",
      "language": "python"
    }
  },
  "nbformat_minor": 4,
  "nbformat": 4,
  "cells": [
    {
      "cell_type": "markdown",
      "source": "# Data Science Tools and Ecosystem",
      "metadata": {}
    },
    {
      "cell_type": "markdown",
      "source": "In this notebook, Data Science Tools and Ecosystem are summerized.",
      "metadata": {}
    },
    {
      "cell_type": "markdown",
      "source": "Data science tools are used for diving into raw and complicated data (unstructured or structured data) and processing, extracting, and analyzing it to dig out valuable insights by applying different data processing techniques such as statistics, computer science, predictive modeling and analysis, and deep learning.",
      "metadata": {}
    },
    {
      "cell_type": "markdown",
      "source": "A data ecosystem refers to a combination of enterprise infrastructure and applications that is utilized to aggregate and analyze information. It enables organizations to better understand their customers and craft superior marketing, pricing and operations strategies.",
      "metadata": {}
    },
    {
      "cell_type": "markdown",
      "source": "**Some of the popular languages that Data Scientist use are:**\n1. python\n2. R\n3. Scala\n4. Julia\n5. Matlab\n6. Javascript\n7. Swift\n8. C++\n9. c",
      "metadata": {}
    },
    {
      "cell_type": "markdown",
      "source": "**Some of the commonly used libraries used by Data Scientists Include:**\n1. Numpy\n2. Pandas\n3. Scikit learn\n4. Tensor Flow\n5. Keras\n6. Matplotlib\n7. Seaborn",
      "metadata": {}
    },
    {
      "cell_type": "markdown",
      "source": "|Data Science Tools|\n--------------------\n|R studio|\n|Anaconda|\n|IBM Watson Studio|\n|Apache Spark|",
      "metadata": {}
    },
    {
      "cell_type": "markdown",
      "source": "### Below are a few examples of evaluating arithmetic expression in Python.",
      "metadata": {}
    },
    {
      "cell_type": "code",
      "source": "# This is a simple arithmetic expression to multiply then and integers\n(3 * 4) + 5",
      "metadata": {
        "trusted": true
      },
      "execution_count": 2,
      "outputs": [
        {
          "execution_count": 2,
          "output_type": "execute_result",
          "data": {
            "text/plain": "17"
          },
          "metadata": {}
        }
      ]
    },
    {
      "cell_type": "code",
      "source": "#this will convert 200 minutes to hours by diving by 60.\n200/60",
      "metadata": {
        "trusted": true
      },
      "execution_count": 3,
      "outputs": [
        {
          "execution_count": 3,
          "output_type": "execute_result",
          "data": {
            "text/plain": "3.3333333333333335"
          },
          "metadata": {}
        }
      ]
    },
    {
      "cell_type": "markdown",
      "source": "**Objectives**\n- Popular languages for Data Science\n- Common used Libraries\n- Data Science Tools\n- Arithmetic Expression in Python.",
      "metadata": {}
    },
    {
      "cell_type": "markdown",
      "source": "## Author\nDostan Khan",
      "metadata": {}
    }
  ]
}